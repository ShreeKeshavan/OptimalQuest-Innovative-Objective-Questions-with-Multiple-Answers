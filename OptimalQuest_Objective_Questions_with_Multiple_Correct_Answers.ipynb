{
  "nbformat": 4,
  "nbformat_minor": 0,
  "metadata": {
    "colab": {
      "provenance": [],
      "include_colab_link": true
    },
    "kernelspec": {
      "name": "python3",
      "display_name": "Python 3"
    },
    "language_info": {
      "name": "python"
    }
  },
  "cells": [
    {
      "cell_type": "markdown",
      "metadata": {
        "id": "view-in-github",
        "colab_type": "text"
      },
      "source": [
        "<a href=\"https://colab.research.google.com/github/ShreeKeshavan/OptimalQuest_Objective-Questions-with-Multiple-Correct-Answers/blob/main/OptimalQuest_Objective_Questions_with_Multiple_Correct_Answers.ipynb\" target=\"_parent\"><img src=\"https://colab.research.google.com/assets/colab-badge.svg\" alt=\"Open In Colab\"/></a>"
      ]
    },
    {
      "cell_type": "markdown",
      "source": [
        "# OptimalQuest_Objective-Questions-with-Multiple-Correct-Answers\n",
        " - ## Creation of Objective Questions with Multiple Correct Answers"
      ],
      "metadata": {
        "id": "ZpfMVW6EB6F2"
      }
    },
    {
      "cell_type": "markdown",
      "source": [
        "Importing Libraries"
      ],
      "metadata": {
        "id": "z5izs7mvE0gJ"
      }
    },
    {
      "cell_type": "code",
      "source": [
        "!pip install PyPDF2\n",
        "import spacy\n",
        "import random\n",
        "from PyPDF2 import PdfReader\n",
        "\n",
        "# To supress warnings\n",
        "import warnings\n",
        "warnings.filterwarnings(\"ignore\")\n"
      ],
      "metadata": {
        "colab": {
          "base_uri": "https://localhost:8080/"
        },
        "id": "Bnh671QMEHxQ",
        "outputId": "c0fed4e2-6846-454c-86f3-f3a72f2bca86"
      },
      "execution_count": 42,
      "outputs": [
        {
          "output_type": "stream",
          "name": "stdout",
          "text": [
            "Requirement already satisfied: PyPDF2 in /usr/local/lib/python3.10/dist-packages (3.0.1)\n"
          ]
        }
      ]
    },
    {
      "cell_type": "markdown",
      "source": [
        "Loading English Language Model"
      ],
      "metadata": {
        "id": "KIniI3L3E_h2"
      }
    },
    {
      "cell_type": "code",
      "source": [
        "# Load English language model\n",
        "nlp_model = spacy.load(\"en_core_web_sm\")"
      ],
      "metadata": {
        "id": "V-ccZkcXEKM0"
      },
      "execution_count": 43,
      "outputs": []
    },
    {
      "cell_type": "markdown",
      "source": [
        "## Multiple Choice Question Generating Function"
      ],
      "metadata": {
        "id": "F-8IhLRLFQym"
      }
    },
    {
      "cell_type": "code",
      "execution_count": 44,
      "metadata": {
        "id": "7qR6mtwrvOKc"
      },
      "outputs": [],
      "source": [
        "# Define a function to generate multiple-choice questions based on the provided text context and the number of questions desired.\n",
        "def get_mca_questions(text_context: str, num_of_questions: int):\n",
        "    # Process the text context using the NLP model and store it in the 'doc' variable.\n",
        "    doc = nlp_model(text_context)\n",
        "\n",
        "    # Define a function to create a multiple-choice question with multiple correct answers.\n",
        "    def create_mcq_with_multiple_correct(question_text, correct_answers, other_options, num_options=4):\n",
        "        # Combine correct answers and other options, then shuffle them.\n",
        "        options = correct_answers + other_options\n",
        "        random.shuffle(options)\n",
        "\n",
        "        # Create a dictionary representing the multiple-choice question.\n",
        "        mcq = {\n",
        "            \"question\": question_text,  # The question text.\n",
        "            \"options\": options,         # All answer options (shuffled).\n",
        "            \"correct_answers\": correct_answers  # List of correct answer options.\n",
        "        }\n",
        "\n",
        "        return mcq\n",
        "\n",
        "    # Define a function to generate a variety of questions.\n",
        "    def generate_variety_question():\n",
        "        # Select a random sentence from the processed document.\n",
        "        random_sentence = random.choice(list(doc.sents))\n",
        "        # Choose a random word within the sentence that is not a punctuation mark.\n",
        "        random_word = random.choice([token for token in random_sentence if not token.is_punct])\n",
        "\n",
        "        # Replace the selected word with \"______\" to create a blank in the question text.\n",
        "        question_text = random_sentence.text.replace(random_word.text, \"______\")\n",
        "        correct_answers = [random_word.text]  # List of correct answer options.\n",
        "\n",
        "        # Create a list of other word options for the question.\n",
        "        other_options = [token.text for token in doc if token.is_alpha and token.text != correct_answers[0]]\n",
        "        num_correct_options = random.randint(1, 2)  # Generate 1 or 2 correct options.\n",
        "        correct_answers.extend(random.sample(other_options, num_correct_options))\n",
        "\n",
        "        num_other_options = min(4 - num_correct_options, len(other_options))\n",
        "        # Randomly select additional word options to complete the multiple-choice options.\n",
        "        other_options = random.sample(other_options, num_other_options)\n",
        "\n",
        "        # Generate the multiple-choice question with correct options using the function defined earlier.\n",
        "        mcq = create_mcq_with_multiple_correct(question_text, correct_answers, other_options)\n",
        "        return mcq\n",
        "\n",
        "    # Generate a list of questions based on user input.\n",
        "    generated_questions = [generate_variety_question() for _ in range(num_of_questions)]\n",
        "\n",
        "    # Initialize a list to store the final multiple-choice questions.\n",
        "    mca_questions = []\n",
        "\n",
        "    # Loop through the generated questions to format them and add to the list.\n",
        "    for i, question in enumerate(generated_questions, start=1):\n",
        "        question_str = f\"Q{i}: {question['question']}\\n\"  # Format the question string.\n",
        "        options_str = \"\"\n",
        "\n",
        "        # Loop through the answer options to format them.\n",
        "        for j, option in enumerate(question['options']):\n",
        "            options_str += f\"{j + 1}. {option}\\n\"\n",
        "\n",
        "        # Format the correct answer options to include in the question.\n",
        "        correct_options_formatted = \" & \".join(f\"({chr(97 + question['options'].index(ans))})\" for ans in question['correct_answers'])\n",
        "        correct_options_str = f\"Correct Options: {correct_options_formatted}\"\n",
        "\n",
        "        # Combine the question, options, and correct options for the final question and add it to the list.\n",
        "        mca_question = f\"{question_str}{options_str}{correct_options_str}\\n\"\n",
        "        mca_questions.append(mca_question)\n",
        "\n",
        "    # Return the list of formatted multiple-choice questions.\n",
        "    return mca_questions"
      ]
    },
    {
      "cell_type": "markdown",
      "source": [
        "## Data Extraction Function"
      ],
      "metadata": {
        "id": "cPuC_ZWoGzrD"
      }
    },
    {
      "cell_type": "code",
      "source": [
        "# Define a function to extract text from PDF documents and concatenate it into a single text string.\n",
        "def extract_text_from_pdfs(pdf_documents):\n",
        "    extracted_text = \"\"\n",
        "    for pdf_file in pdf_documents:\n",
        "        # Initialize the PDF reader to extract text from the current PDF document.\n",
        "        pdf_reader = PdfReader(pdf_file)\n",
        "        for pdf_page in pdf_reader.pages:\n",
        "            # Concatenate the text from each page to the 'extracted_text' string.\n",
        "            extracted_text += pdf_page.extract_text()\n",
        "    return extracted_text\n"
      ],
      "metadata": {
        "id": "NfDz-0qLEZAV"
      },
      "execution_count": 45,
      "outputs": []
    },
    {
      "cell_type": "code",
      "source": [
        "# Define the PDF documents to extract text from\n",
        "pdf_file1 = 'chapter-2.pdf'\n",
        "pdf_file2 = 'chapter-3.pdf'\n",
        "pdf_file3 = 'chapter-4.pdf'\n",
        "\n",
        "pdf_documents = [pdf_file1, pdf_file2, pdf_file3]\n",
        "# Extract text from the specified PDFs and store it in 'document_text'\n",
        "document_text = extract_text_from_pdfs(pdf_documents)\n",
        "text_context = document_text\n"
      ],
      "metadata": {
        "id": "-kiungmBEf3b"
      },
      "execution_count": 46,
      "outputs": []
    },
    {
      "cell_type": "markdown",
      "source": [
        "## User Input"
      ],
      "metadata": {
        "id": "HPMXvPrbG8SU"
      }
    },
    {
      "cell_type": "code",
      "source": [
        "# Prompt the user to input the number of questions\n",
        "number_of_questions = int(input(\"Enter the number of questions: \"))\n",
        "\n",
        "# Generate and display multiple-choice questions based on the extracted text\n",
        "generated_questions = get_mca_questions(text_context, number_of_questions)\n",
        "for question in generated_questions:\n",
        "    print(question)"
      ],
      "metadata": {
        "colab": {
          "base_uri": "https://localhost:8080/"
        },
        "id": "fBdcaUBCEjEy",
        "outputId": "141017d3-83a4-49e2-bc36-56d9fa9b70ad"
      },
      "execution_count": 47,
      "outputs": [
        {
          "output_type": "stream",
          "name": "stdout",
          "text": [
            "Enter the number of questions: 3\n",
            "Q1: Mysore had grown in strength under the leadership \n",
            "of powerful rulers like Haidar Ali (ruled from 1761 to 1782) and ______ famous son Tipu Sultan (ruled from 1782 to 1799).\n",
            "1. land\n",
            "2. British\n",
            "3. his\n",
            "4. uniformity\n",
            "5. Nawab\n",
            "Correct Options: (c) & (e) & (d)\n",
            "\n",
            "Q2: (b) Cocoons were bought from the ______ and  sold \n",
            "by the traders at five times the purchase price.\n",
            "\n",
            "1. Santhals\n",
            "2. Verrier\n",
            "3. of\n",
            "4. seed\n",
            "5. the\n",
            "Correct Options: (a) & (d)\n",
            "\n",
            "Q3: It was tried on a small scale by \n",
            "Captain Alexander Read in some of ______ areas that were taken over by ______ Company after ______ wars with Tipu Sultan.\n",
            "1. chap\n",
            "2. Crops\n",
            "3. the\n",
            "4. and\n",
            "5. around\n",
            "Correct Options: (c) & (a) & (d)\n",
            "\n"
          ]
        }
      ]
    }
  ]
}